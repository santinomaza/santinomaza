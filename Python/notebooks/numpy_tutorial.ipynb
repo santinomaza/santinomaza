{
  "metadata": {
    "kernelspec": {
      "name": "python",
      "display_name": "Python (Pyodide)",
      "language": "python"
    },
    "language_info": {
      "codemirror_mode": {
        "name": "python",
        "version": 3
      },
      "file_extension": ".py",
      "mimetype": "text/x-python",
      "name": "python",
      "nbconvert_exporter": "python",
      "pygments_lexer": "ipython3",
      "version": "3.8"
    }
  },
  "nbformat_minor": 5,
  "nbformat": 4,
  "cells": [
    {
      "id": "bcf3f19e-811c-4f54-9d1f-ce74f98e7def",
      "cell_type": "markdown",
      "source": "# The Basics",
      "metadata": {}
    },
    {
      "id": "e5f2b741-58bc-4a27-8485-2572494ce7fb",
      "cell_type": "code",
      "source": "import numpy as np",
      "metadata": {
        "trusted": true
      },
      "outputs": [],
      "execution_count": 1
    },
    {
      "id": "0810c79a-683e-4527-a40e-c2178cf6f7ac",
      "cell_type": "code",
      "source": "a = np.array([1,2,3,], dtype='int16')\nprint(a)",
      "metadata": {
        "trusted": true
      },
      "outputs": [
        {
          "name": "stdout",
          "output_type": "stream",
          "text": "[1 2 3]\n"
        }
      ],
      "execution_count": 10
    },
    {
      "id": "725c8be4-a6a2-4d24-95df-76cb5c2af6b8",
      "cell_type": "code",
      "source": "b = np.array([[9.0,8.0,7.0],[6.0,5.0,4.0]])\nprint(b)",
      "metadata": {
        "trusted": true
      },
      "outputs": [
        {
          "name": "stdout",
          "output_type": "stream",
          "text": "[[9. 8. 7.]\n [6. 5. 4.]]\n"
        }
      ],
      "execution_count": 4
    },
    {
      "id": "eec60e1c-b671-4aee-8edc-a97b6110d4b7",
      "cell_type": "code",
      "source": "#Get dimensions\na.ndim",
      "metadata": {
        "trusted": true
      },
      "outputs": [
        {
          "execution_count": 5,
          "output_type": "execute_result",
          "data": {
            "text/plain": "1"
          },
          "metadata": {}
        }
      ],
      "execution_count": 5
    },
    {
      "id": "00c5b101-8d5f-4621-b707-1da3b0810434",
      "cell_type": "code",
      "source": "b.ndim",
      "metadata": {
        "trusted": true
      },
      "outputs": [
        {
          "execution_count": 6,
          "output_type": "execute_result",
          "data": {
            "text/plain": "2"
          },
          "metadata": {}
        }
      ],
      "execution_count": 6
    },
    {
      "id": "34e25345-911e-4900-942c-89d873fa3a7f",
      "cell_type": "code",
      "source": "b.shape",
      "metadata": {
        "trusted": true
      },
      "outputs": [
        {
          "execution_count": 7,
          "output_type": "execute_result",
          "data": {
            "text/plain": "(2, 3)"
          },
          "metadata": {}
        }
      ],
      "execution_count": 7
    },
    {
      "id": "22dfde5a-df2a-4ef4-a7c3-8aac6c8e1f9c",
      "cell_type": "code",
      "source": "#Get the type\na.dtype",
      "metadata": {
        "trusted": true
      },
      "outputs": [
        {
          "execution_count": 11,
          "output_type": "execute_result",
          "data": {
            "text/plain": "dtype('int16')"
          },
          "metadata": {}
        }
      ],
      "execution_count": 11
    },
    {
      "id": "628cd2e1-4e22-4628-89c5-1798148ea85d",
      "cell_type": "code",
      "source": "#Get size\na.itemsize",
      "metadata": {
        "trusted": true
      },
      "outputs": [
        {
          "execution_count": 13,
          "output_type": "execute_result",
          "data": {
            "text/plain": "2"
          },
          "metadata": {}
        }
      ],
      "execution_count": 13
    },
    {
      "id": "17e4118c-28df-4147-99f4-8d27c13bf314",
      "cell_type": "code",
      "source": "#Get the total size\na.size",
      "metadata": {
        "trusted": true
      },
      "outputs": [
        {
          "execution_count": 14,
          "output_type": "execute_result",
          "data": {
            "text/plain": "3"
          },
          "metadata": {}
        }
      ],
      "execution_count": 14
    },
    {
      "id": "0f4185bd-267c-4137-bd28-c8ec566b124f",
      "cell_type": "code",
      "source": "a.nbytes",
      "metadata": {
        "trusted": true
      },
      "outputs": [
        {
          "execution_count": 15,
          "output_type": "execute_result",
          "data": {
            "text/plain": "6"
          },
          "metadata": {}
        }
      ],
      "execution_count": 15
    },
    {
      "id": "26f78788-4ad1-48aa-aa3e-2cc600909223",
      "cell_type": "code",
      "source": "b = np.array([[1.0,2.0,3.0],[3.0,4.0,5.0]])\nprint(b)",
      "metadata": {
        "trusted": true
      },
      "outputs": [
        {
          "name": "stdout",
          "output_type": "stream",
          "text": "[[1. 2. 3.]\n [3. 4. 5.]]\n"
        }
      ],
      "execution_count": 17
    },
    {
      "id": "8c973b57-9519-4ee5-a374-eab037c8cdb9",
      "cell_type": "markdown",
      "source": "# Accesing/Changing specific elements, rows, columns, etc",
      "metadata": {}
    },
    {
      "id": "c2d936b6-4c51-44e7-bbe8-e8dfba060d9e",
      "cell_type": "code",
      "source": "a = np.array([[1,2,3,4,5,6,7],[8,9,10,11,12,13,14]])\nprint(a)",
      "metadata": {
        "trusted": true
      },
      "outputs": [
        {
          "name": "stdout",
          "output_type": "stream",
          "text": "[[ 1  2  3  4  5  6  7]\n [ 8  9 10 11 12 13 14]]\n"
        }
      ],
      "execution_count": 23
    },
    {
      "id": "4a973b80-448f-4548-a3a0-cdc0c3e73d2b",
      "cell_type": "code",
      "source": "a.shape",
      "metadata": {
        "trusted": true
      },
      "outputs": [
        {
          "execution_count": 26,
          "output_type": "execute_result",
          "data": {
            "text/plain": "(2, 7)"
          },
          "metadata": {}
        }
      ],
      "execution_count": 26
    },
    {
      "id": "9b2f52ea-a888-486e-9ecc-ae9bc482bdcb",
      "cell_type": "code",
      "source": "#Get a specific element [r, c]\na[1]",
      "metadata": {
        "trusted": true
      },
      "outputs": [
        {
          "execution_count": 25,
          "output_type": "execute_result",
          "data": {
            "text/plain": "array([ 8,  9, 10, 11, 12, 13, 14])"
          },
          "metadata": {}
        }
      ],
      "execution_count": 25
    },
    {
      "id": "62952ef1-efb2-41f7-9869-0000a5cef58b",
      "cell_type": "code",
      "source": "a[1,5]",
      "metadata": {
        "trusted": true
      },
      "outputs": [
        {
          "execution_count": 38,
          "output_type": "execute_result",
          "data": {
            "text/plain": "np.int32(13)"
          },
          "metadata": {}
        }
      ],
      "execution_count": 38
    },
    {
      "id": "0a7552c3-9981-4d38-9a81-8a0e0b0d75ce",
      "cell_type": "code",
      "source": "#Get specific row\na[0, :]",
      "metadata": {
        "trusted": true
      },
      "outputs": [
        {
          "execution_count": 39,
          "output_type": "execute_result",
          "data": {
            "text/plain": "array([1, 2, 3, 4, 5, 6, 7])"
          },
          "metadata": {}
        }
      ],
      "execution_count": 39
    },
    {
      "id": "03032792-aa2d-452c-9bd9-d46981e157de",
      "cell_type": "code",
      "source": "#Get specific column\na[:, 2]",
      "metadata": {
        "trusted": true
      },
      "outputs": [
        {
          "execution_count": 40,
          "output_type": "execute_result",
          "data": {
            "text/plain": "array([ 3, 10])"
          },
          "metadata": {}
        }
      ],
      "execution_count": 40
    },
    {
      "id": "43cfcb11-ea4c-40b3-ae5d-71e10a8a68b1",
      "cell_type": "code",
      "source": "#Getting a little more fancy [starindex:endindex:stepsize]\na[0, 1:6:2]",
      "metadata": {
        "trusted": true
      },
      "outputs": [
        {
          "execution_count": 41,
          "output_type": "execute_result",
          "data": {
            "text/plain": "array([2, 4, 6])"
          },
          "metadata": {}
        }
      ],
      "execution_count": 41
    },
    {
      "id": "65bb937b-8b9e-4891-87bd-cf247fcda50e",
      "cell_type": "code",
      "source": "a[1,5] = 20\nprint(a)",
      "metadata": {
        "trusted": true
      },
      "outputs": [
        {
          "name": "stdout",
          "output_type": "stream",
          "text": "[[ 1  2  3  4  5  6  7]\n [ 8  9 10 11 12 20 14]]\n"
        }
      ],
      "execution_count": 42
    },
    {
      "id": "9775b834-0c16-43ba-938d-24db46ce71d6",
      "cell_type": "code",
      "source": "a[:,2] = 5\nprint(a)",
      "metadata": {
        "trusted": true
      },
      "outputs": [
        {
          "name": "stdout",
          "output_type": "stream",
          "text": "[[ 1  2  5  4  5  6  7]\n [ 8  9  5 11 12 20 14]]\n"
        }
      ],
      "execution_count": 43
    },
    {
      "id": "0a27fe8d-639e-42e4-bbe0-18d3e61df2f9",
      "cell_type": "code",
      "source": "#3D example\nb = np.array([[[1,2],[3,4]],[[5,6],[7,8]]])\nprint(b)",
      "metadata": {
        "trusted": true
      },
      "outputs": [
        {
          "name": "stdout",
          "output_type": "stream",
          "text": "[[[1 2]\n  [3 4]]\n\n [[5 6]\n  [7 8]]]\n"
        }
      ],
      "execution_count": 46
    },
    {
      "id": "ab6f4bc9-f36c-415a-a33c-7556ff10e8a5",
      "cell_type": "code",
      "source": "#Get specific element (work outside in)\nb[:, 1, :]",
      "metadata": {
        "trusted": true
      },
      "outputs": [
        {
          "execution_count": 49,
          "output_type": "execute_result",
          "data": {
            "text/plain": "array([[3, 4],\n       [7, 8]])"
          },
          "metadata": {}
        }
      ],
      "execution_count": 49
    },
    {
      "id": "63acbf90-d9b0-4fe5-aa11-35e8f2832601",
      "cell_type": "code",
      "source": "#Replace\nb[:, 1, :] = [[9,9],[8,8]]",
      "metadata": {
        "trusted": true
      },
      "outputs": [],
      "execution_count": 50
    },
    {
      "id": "67843abc-90a9-43ae-9417-bd6dc3bb8bd3",
      "cell_type": "code",
      "source": "b",
      "metadata": {
        "trusted": true
      },
      "outputs": [
        {
          "execution_count": 51,
          "output_type": "execute_result",
          "data": {
            "text/plain": "array([[[1, 2],\n        [9, 9]],\n\n       [[5, 6],\n        [8, 8]]])"
          },
          "metadata": {}
        }
      ],
      "execution_count": 51
    },
    {
      "id": "7052614d-bf2a-4028-b514-a9e1e9e2df20",
      "cell_type": "code",
      "source": "a = np.array([[1, 2, 3, 4, 5], [6, 7, 8, 9, 10]])",
      "metadata": {
        "trusted": true
      },
      "outputs": [],
      "execution_count": 52
    },
    {
      "id": "b740094d-e1b0-4049-87c6-b981005bee26",
      "cell_type": "code",
      "source": "a[:, 2] = 20",
      "metadata": {
        "trusted": true
      },
      "outputs": [],
      "execution_count": 53
    },
    {
      "id": "71014417-9002-484d-ae4e-f1a7aed7e7ae",
      "cell_type": "code",
      "source": "a",
      "metadata": {
        "trusted": true
      },
      "outputs": [
        {
          "execution_count": 54,
          "output_type": "execute_result",
          "data": {
            "text/plain": "array([[ 1,  2, 20,  4,  5],\n       [ 6,  7, 20,  9, 10]])"
          },
          "metadata": {}
        }
      ],
      "execution_count": 54
    },
    {
      "id": "37a9c55c-1617-4171-89f6-36adc1291535",
      "cell_type": "markdown",
      "source": "# Initializing Different Types of Arrays",
      "metadata": {}
    },
    {
      "id": "086f2f51-3779-4cd7-9d31-ec1a817b285f",
      "cell_type": "code",
      "source": "np.zeros((2,3))",
      "metadata": {
        "trusted": true
      },
      "outputs": [
        {
          "execution_count": 58,
          "output_type": "execute_result",
          "data": {
            "text/plain": "array([[0., 0., 0.],\n       [0., 0., 0.]])"
          },
          "metadata": {}
        }
      ],
      "execution_count": 58
    },
    {
      "id": "2c68e5eb-4e4a-4617-93c5-5844a1076d51",
      "cell_type": "code",
      "source": "#All 1s matriz\nnp.ones((4,2,2), dtype='int32')",
      "metadata": {
        "trusted": true
      },
      "outputs": [
        {
          "execution_count": 59,
          "output_type": "execute_result",
          "data": {
            "text/plain": "array([[[1, 1],\n        [1, 1]],\n\n       [[1, 1],\n        [1, 1]],\n\n       [[1, 1],\n        [1, 1]],\n\n       [[1, 1],\n        [1, 1]]])"
          },
          "metadata": {}
        }
      ],
      "execution_count": 59
    },
    {
      "id": "baf07acf-0d5a-4a11-a486-adfae2e56957",
      "cell_type": "code",
      "source": "#Any other number\nnp.full((2,2),99, dtype='int32')",
      "metadata": {
        "trusted": true
      },
      "outputs": [
        {
          "execution_count": 61,
          "output_type": "execute_result",
          "data": {
            "text/plain": "array([[99, 99],\n       [99, 99]])"
          },
          "metadata": {}
        }
      ],
      "execution_count": 61
    },
    {
      "id": "b5e124a6-b8d8-457b-9bdf-51e7a2bfcc3b",
      "cell_type": "code",
      "source": "#Any other number (full_like)\nnp.full_like(a,4)",
      "metadata": {
        "trusted": true
      },
      "outputs": [
        {
          "execution_count": 62,
          "output_type": "execute_result",
          "data": {
            "text/plain": "array([[4, 4, 4, 4, 4],\n       [4, 4, 4, 4, 4]])"
          },
          "metadata": {}
        }
      ],
      "execution_count": 62
    },
    {
      "id": "091ca303-bc9a-4f31-8dca-586e702da8dd",
      "cell_type": "code",
      "source": "#Random decimal numbers\nnp.random.rand(4,2)\n",
      "metadata": {
        "trusted": true
      },
      "outputs": [
        {
          "execution_count": 63,
          "output_type": "execute_result",
          "data": {
            "text/plain": "array([[0.92212335, 0.11524268],\n       [0.37164428, 0.22834463],\n       [0.53344227, 0.44527603],\n       [0.31951152, 0.68421069]])"
          },
          "metadata": {}
        }
      ],
      "execution_count": 63
    },
    {
      "id": "1b41cae4-fa4d-4519-ae28-57dbeca7a4d9",
      "cell_type": "code",
      "source": "np.random.random_sample(a.shape)",
      "metadata": {
        "trusted": true
      },
      "outputs": [
        {
          "execution_count": 64,
          "output_type": "execute_result",
          "data": {
            "text/plain": "array([[0.63806826, 0.34205589, 0.14326839, 0.11874516, 0.80032063],\n       [0.95289925, 0.75867312, 0.95465717, 0.37374536, 0.15369998]])"
          },
          "metadata": {}
        }
      ],
      "execution_count": 64
    },
    {
      "id": "5106e76b-a47b-446c-9336-415440ae75b6",
      "cell_type": "code",
      "source": "#Random Intenger values\nnp.random.randint(7)",
      "metadata": {
        "trusted": true
      },
      "outputs": [
        {
          "execution_count": 71,
          "output_type": "execute_result",
          "data": {
            "text/plain": "6"
          },
          "metadata": {}
        }
      ],
      "execution_count": 71
    },
    {
      "id": "0af7b12d-7f1e-4576-8f44-790b88f437f2",
      "cell_type": "code",
      "source": "np.random.randint(-4,7, size=(3,3))",
      "metadata": {
        "trusted": true
      },
      "outputs": [
        {
          "execution_count": 81,
          "output_type": "execute_result",
          "data": {
            "text/plain": "array([[-3, -4,  5],\n       [ 2,  0, -4],\n       [-4, -4, -2]])"
          },
          "metadata": {}
        }
      ],
      "execution_count": 81
    },
    {
      "id": "8addf35f-956c-4e24-90a5-29db7cdbd7b5",
      "cell_type": "code",
      "source": "#The indentity matrix\nnp.identity(5)",
      "metadata": {
        "trusted": true
      },
      "outputs": [
        {
          "execution_count": 83,
          "output_type": "execute_result",
          "data": {
            "text/plain": "array([[1., 0., 0., 0., 0.],\n       [0., 1., 0., 0., 0.],\n       [0., 0., 1., 0., 0.],\n       [0., 0., 0., 1., 0.],\n       [0., 0., 0., 0., 1.]])"
          },
          "metadata": {}
        }
      ],
      "execution_count": 83
    },
    {
      "id": "19e09185-90cf-4e1b-ae3b-0ce14c0d0c13",
      "cell_type": "code",
      "source": "#Repeat an array\narr = np.array([[1,2,3]])\nr1 = np.repeat(arr,3, axis=0)\nprint(r1)",
      "metadata": {
        "trusted": true
      },
      "outputs": [
        {
          "name": "stdout",
          "output_type": "stream",
          "text": "[[1 2 3]\n [1 2 3]\n [1 2 3]]\n"
        }
      ],
      "execution_count": 86
    },
    {
      "id": "a4edf920-132d-4149-873d-2a811eb4e1b9",
      "cell_type": "code",
      "source": "output = np.ones((5,5))\nprint(output)\n\nz = np.zeros((3,3))\nz[1,1] = 9\nprint(z)\n\noutput[1:4,1:4] = z\nprint(output)",
      "metadata": {
        "trusted": true
      },
      "outputs": [
        {
          "name": "stdout",
          "output_type": "stream",
          "text": "[[1. 1. 1. 1. 1.]\n [1. 1. 1. 1. 1.]\n [1. 1. 1. 1. 1.]\n [1. 1. 1. 1. 1.]\n [1. 1. 1. 1. 1.]]\n[[0. 0. 0.]\n [0. 9. 0.]\n [0. 0. 0.]]\n[[1. 1. 1. 1. 1.]\n [1. 0. 0. 0. 1.]\n [1. 0. 9. 0. 1.]\n [1. 0. 0. 0. 1.]\n [1. 1. 1. 1. 1.]]\n"
        }
      ],
      "execution_count": 92
    },
    {
      "id": "d5bfc95c-d85c-4927-ac98-4e7b86eaa7c7",
      "cell_type": "markdown",
      "source": "##### Be careful when copying arrays!!!",
      "metadata": {}
    },
    {
      "id": "db6ae35e-89c6-41cf-a7c9-5372e0d8770a",
      "cell_type": "code",
      "source": "a = np.array([1,2,3,])\nb = a.copy()\nb[0]= 100\nprint(a)",
      "metadata": {
        "trusted": true
      },
      "outputs": [
        {
          "name": "stdout",
          "output_type": "stream",
          "text": "[1 2 3]\n"
        }
      ],
      "execution_count": 96
    },
    {
      "id": "a1d3370c-e1ea-4392-8322-83a29582335a",
      "cell_type": "markdown",
      "source": "# Mathematics",
      "metadata": {}
    },
    {
      "id": "d1b24b92-9ee8-410b-8a09-14e6a4193ebf",
      "cell_type": "code",
      "source": "a = np.array([1,2,3,4])\nprint(a)",
      "metadata": {
        "trusted": true
      },
      "outputs": [
        {
          "name": "stdout",
          "output_type": "stream",
          "text": "[1 2 3 4]\n"
        }
      ],
      "execution_count": 97
    },
    {
      "id": "f67c1bad-1ca4-4968-9a7c-686115976937",
      "cell_type": "code",
      "source": "a + 2",
      "metadata": {
        "trusted": true
      },
      "outputs": [
        {
          "execution_count": 98,
          "output_type": "execute_result",
          "data": {
            "text/plain": "array([3, 4, 5, 6])"
          },
          "metadata": {}
        }
      ],
      "execution_count": 98
    },
    {
      "id": "21514601-6f5c-4233-afb5-b87d9b820278",
      "cell_type": "code",
      "source": "a - 2",
      "metadata": {
        "trusted": true
      },
      "outputs": [
        {
          "execution_count": 99,
          "output_type": "execute_result",
          "data": {
            "text/plain": "array([-1,  0,  1,  2])"
          },
          "metadata": {}
        }
      ],
      "execution_count": 99
    },
    {
      "id": "3e02ff3f-0b78-4ca5-ba3f-725f1918c2ff",
      "cell_type": "code",
      "source": "a * 2",
      "metadata": {
        "trusted": true
      },
      "outputs": [
        {
          "execution_count": 100,
          "output_type": "execute_result",
          "data": {
            "text/plain": "array([2, 4, 6, 8])"
          },
          "metadata": {}
        }
      ],
      "execution_count": 100
    },
    {
      "id": "0568899c-6930-48e1-b52b-bd8dc8dbf0bd",
      "cell_type": "code",
      "source": "a / 2",
      "metadata": {
        "trusted": true
      },
      "outputs": [
        {
          "execution_count": 101,
          "output_type": "execute_result",
          "data": {
            "text/plain": "array([0.5, 1. , 1.5, 2. ])"
          },
          "metadata": {}
        }
      ],
      "execution_count": 101
    },
    {
      "id": "1ea74201-9dde-49f3-9324-46dd4a033f4f",
      "cell_type": "code",
      "source": "b = np.array([1,0,1,0])\na + b",
      "metadata": {
        "trusted": true
      },
      "outputs": [
        {
          "execution_count": 102,
          "output_type": "execute_result",
          "data": {
            "text/plain": "array([2, 2, 4, 4])"
          },
          "metadata": {}
        }
      ],
      "execution_count": 102
    },
    {
      "id": "cf64a5a1-b22f-426b-a269-1803fb69e1dd",
      "cell_type": "code",
      "source": "a ** 2",
      "metadata": {
        "trusted": true
      },
      "outputs": [
        {
          "execution_count": 103,
          "output_type": "execute_result",
          "data": {
            "text/plain": "array([ 1,  4,  9, 16])"
          },
          "metadata": {}
        }
      ],
      "execution_count": 103
    },
    {
      "id": "3e5da96f-fa56-405c-8b42-55319e77202c",
      "cell_type": "code",
      "source": "#Take the sin\nnp.sin(a)",
      "metadata": {
        "trusted": true
      },
      "outputs": [
        {
          "execution_count": 104,
          "output_type": "execute_result",
          "data": {
            "text/plain": "array([ 0.84147098,  0.90929743,  0.14112001, -0.7568025 ])"
          },
          "metadata": {}
        }
      ],
      "execution_count": 104
    },
    {
      "id": "68719f56-4d2a-4273-ba1d-95d2cf3c0942",
      "cell_type": "code",
      "source": "np.cos(a)",
      "metadata": {
        "trusted": true
      },
      "outputs": [
        {
          "execution_count": 105,
          "output_type": "execute_result",
          "data": {
            "text/plain": "array([ 0.54030231, -0.41614684, -0.9899925 , -0.65364362])"
          },
          "metadata": {}
        }
      ],
      "execution_count": 105
    },
    {
      "id": "7b34faf1-362a-4b35-94bc-bfbb38893842",
      "cell_type": "code",
      "source": "np.tan(a)",
      "metadata": {
        "trusted": true
      },
      "outputs": [
        {
          "execution_count": 106,
          "output_type": "execute_result",
          "data": {
            "text/plain": "array([ 1.55740772, -2.18503986, -0.14254654,  1.15782128])"
          },
          "metadata": {}
        }
      ],
      "execution_count": 106
    },
    {
      "id": "8dd84b1a-dbcb-48e0-9395-d65b9c900839",
      "cell_type": "markdown",
      "source": "### Linear Algebra",
      "metadata": {}
    },
    {
      "id": "f14185a9-fed1-4e7b-b86e-967352406f3e",
      "cell_type": "code",
      "source": "a = np.ones((2,3))\nprint(a)\n\nb = np.full((3,2), 2)\nprint(b)",
      "metadata": {
        "trusted": true
      },
      "outputs": [
        {
          "name": "stdout",
          "output_type": "stream",
          "text": "[[1. 1. 1.]\n [1. 1. 1.]]\n[[2 2]\n [2 2]\n [2 2]]\n"
        }
      ],
      "execution_count": 107
    },
    {
      "id": "c0c90949-1b7c-49ed-bff1-96efce0b09bf",
      "cell_type": "code",
      "source": "np.matmul(a,b)",
      "metadata": {
        "trusted": true
      },
      "outputs": [
        {
          "execution_count": 108,
          "output_type": "execute_result",
          "data": {
            "text/plain": "array([[6., 6.],\n       [6., 6.]])"
          },
          "metadata": {}
        }
      ],
      "execution_count": 108
    },
    {
      "id": "d2c17f7d-75b8-4f8c-9410-124b863d0b89",
      "cell_type": "code",
      "source": "#Find the determinant\nc = np.identity(3)\nnp.linalg.det(c)",
      "metadata": {
        "trusted": true
      },
      "outputs": [
        {
          "execution_count": 109,
          "output_type": "execute_result",
          "data": {
            "text/plain": "np.float64(1.0)"
          },
          "metadata": {}
        }
      ],
      "execution_count": 109
    },
    {
      "id": "0a4a9ca0-45df-478c-8483-ff23a5ddc37c",
      "cell_type": "markdown",
      "source": "### Reference docs docs scipy org routines linalg",
      "metadata": {}
    },
    {
      "id": "cfe9c693-5401-46a6-8f34-5d8242dd21f1",
      "cell_type": "code",
      "source": "stats = np.array([[1,2,3],[4,5,6]])\nstats",
      "metadata": {
        "trusted": true
      },
      "outputs": [
        {
          "execution_count": 111,
          "output_type": "execute_result",
          "data": {
            "text/plain": "array([[1, 2, 3],\n       [4, 5, 6]])"
          },
          "metadata": {}
        }
      ],
      "execution_count": 111
    },
    {
      "id": "eaa9964b-7336-4f7a-9c6d-13d0d8c41b79",
      "cell_type": "code",
      "source": "np.min(stats)",
      "metadata": {
        "trusted": true
      },
      "outputs": [
        {
          "execution_count": 116,
          "output_type": "execute_result",
          "data": {
            "text/plain": "np.int32(1)"
          },
          "metadata": {}
        }
      ],
      "execution_count": 116
    },
    {
      "id": "67dd013a-1f8c-4663-8031-3b064e9b45e9",
      "cell_type": "code",
      "source": "np.max(stats, axis =1)",
      "metadata": {
        "trusted": true
      },
      "outputs": [
        {
          "execution_count": 117,
          "output_type": "execute_result",
          "data": {
            "text/plain": "array([3, 6])"
          },
          "metadata": {}
        }
      ],
      "execution_count": 117
    },
    {
      "id": "11bd6bc2-c860-4031-8b58-090923734f9c",
      "cell_type": "code",
      "source": "np.sum(stats)",
      "metadata": {
        "trusted": true
      },
      "outputs": [
        {
          "execution_count": 114,
          "output_type": "execute_result",
          "data": {
            "text/plain": "np.int32(21)"
          },
          "metadata": {}
        }
      ],
      "execution_count": 114
    },
    {
      "id": "d577fa00-dc15-4efe-acfd-a20f8de29249",
      "cell_type": "markdown",
      "source": "# Reorganizing Arrays",
      "metadata": {}
    },
    {
      "id": "5d49d429-75b1-4ddb-b347-c03dbd16d7f1",
      "cell_type": "code",
      "source": "before = np.array([[1,2,3,4],[5,6,7,8]])\nprint(before)\n\nafter = before.reshape((4,2))\nprint(after)",
      "metadata": {
        "trusted": true
      },
      "outputs": [
        {
          "name": "stdout",
          "output_type": "stream",
          "text": "[[1 2 3 4]\n [5 6 7 8]]\n[[1 2]\n [3 4]\n [5 6]\n [7 8]]\n"
        }
      ],
      "execution_count": 124
    },
    {
      "id": "2e6d44fe-9e5d-4ca3-af0c-3f1de8220a2e",
      "cell_type": "code",
      "source": "# Vertical stacking vector\nv1 = np.array([1,2,3,4])\nv2 = np.array([5,6,7,8])\n\nnp.vstack([v1,v2,v1,v2])",
      "metadata": {
        "trusted": true
      },
      "outputs": [
        {
          "execution_count": 127,
          "output_type": "execute_result",
          "data": {
            "text/plain": "array([[1, 2, 3, 4],\n       [5, 6, 7, 8],\n       [1, 2, 3, 4],\n       [5, 6, 7, 8]])"
          },
          "metadata": {}
        }
      ],
      "execution_count": 127
    },
    {
      "id": "f34ee9c8-9adf-47e9-bd5f-92c89fd00515",
      "cell_type": "code",
      "source": "# Horizontal stack\nh1 = np.ones((2,4))\nh2 = np.zeros((2,2))\n\nnp.hstack((h1,h2))",
      "metadata": {
        "trusted": true
      },
      "outputs": [
        {
          "execution_count": 128,
          "output_type": "execute_result",
          "data": {
            "text/plain": "array([[1., 1., 1., 1., 0., 0.],\n       [1., 1., 1., 1., 0., 0.]])"
          },
          "metadata": {}
        }
      ],
      "execution_count": 128
    },
    {
      "id": "27ce396d-e1ab-4de8-9430-168a99678206",
      "cell_type": "markdown",
      "source": "# Miscellaneous\n### Load Data from File",
      "metadata": {}
    },
    {
      "id": "441ea8ec-cc11-44bc-acef-b43894a82b14",
      "cell_type": "code",
      "source": "filedata = np.genfromtxt('data.txt', delimiter=',')\nfiledata = filedata.astype('int32')\nfiledata",
      "metadata": {
        "trusted": true
      },
      "outputs": [
        {
          "execution_count": 135,
          "output_type": "execute_result",
          "data": {
            "text/plain": "array([[  1,  13,  21,  11, 196,  75,   4,   3],\n       [  3,  42,  12,  33, 766,  75,   4,  55],\n       [  1,  22,  33,   1, 999,  11,   2,   1]])"
          },
          "metadata": {}
        }
      ],
      "execution_count": 135
    },
    {
      "id": "21c736ed-bcaa-4191-91ab-4a6712c4c948",
      "cell_type": "markdown",
      "source": "#### Boolean Masking and Advanced Indexing",
      "metadata": {}
    },
    {
      "id": "f3940d85-9fc5-45a6-b559-1e7e438dcfc2",
      "cell_type": "code",
      "source": "filedata > 50",
      "metadata": {
        "trusted": true
      },
      "outputs": [
        {
          "execution_count": 136,
          "output_type": "execute_result",
          "data": {
            "text/plain": "array([[False, False, False, False,  True,  True, False, False],\n       [False, False, False, False,  True,  True, False,  True],\n       [False, False, False, False,  True, False, False, False]])"
          },
          "metadata": {}
        }
      ],
      "execution_count": 136
    },
    {
      "id": "0724d650-71d7-45f5-8a20-f1b9163dd596",
      "cell_type": "code",
      "source": "filedata[filedata > 50]",
      "metadata": {
        "trusted": true
      },
      "outputs": [
        {
          "execution_count": 137,
          "output_type": "execute_result",
          "data": {
            "text/plain": "array([196,  75, 766,  75,  55, 999])"
          },
          "metadata": {}
        }
      ],
      "execution_count": 137
    },
    {
      "id": "4b93e8de-02d5-407c-b16d-097ba3000bba",
      "cell_type": "code",
      "source": "#You can index with a list in NumPY\na = np.array([1,2,3,4,5,6,7,8,9])\na[[1,2,8]]",
      "metadata": {
        "trusted": true
      },
      "outputs": [
        {
          "execution_count": 138,
          "output_type": "execute_result",
          "data": {
            "text/plain": "array([2, 3, 9])"
          },
          "metadata": {}
        }
      ],
      "execution_count": 138
    },
    {
      "id": "f3651446-1019-4eb2-b523-cdb4cd63d893",
      "cell_type": "code",
      "source": "np.any(filedata > 50, axis = 0)",
      "metadata": {
        "trusted": true
      },
      "outputs": [
        {
          "execution_count": 139,
          "output_type": "execute_result",
          "data": {
            "text/plain": "array([False, False, False, False,  True,  True, False,  True])"
          },
          "metadata": {}
        }
      ],
      "execution_count": 139
    },
    {
      "id": "8ac1dd28-7a29-4172-9c4b-998dfa105761",
      "cell_type": "code",
      "source": "np.all(filedata > 50,axis = 0)",
      "metadata": {
        "trusted": true
      },
      "outputs": [
        {
          "execution_count": 140,
          "output_type": "execute_result",
          "data": {
            "text/plain": "array([False, False, False, False,  True, False, False, False])"
          },
          "metadata": {}
        }
      ],
      "execution_count": 140
    },
    {
      "id": "fc6da2be-2254-495d-81e2-4eb3b7b2982f",
      "cell_type": "code",
      "source": "((filedata > 50) & (filedata < 100))",
      "metadata": {
        "trusted": true
      },
      "outputs": [
        {
          "execution_count": 141,
          "output_type": "execute_result",
          "data": {
            "text/plain": "array([[False, False, False, False, False,  True, False, False],\n       [False, False, False, False, False,  True, False,  True],\n       [False, False, False, False, False, False, False, False]])"
          },
          "metadata": {}
        }
      ],
      "execution_count": 141
    },
    {
      "id": "9f9ef715-8638-43c9-932d-a1dffd98672c",
      "cell_type": "code",
      "source": "a[2:4,0:2]\na[[0,1,2,3],[1,2,3,4]]\na[0,4,5], 3:]",
      "metadata": {
        "trusted": true
      },
      "outputs": [],
      "execution_count": null
    }
  ]
}
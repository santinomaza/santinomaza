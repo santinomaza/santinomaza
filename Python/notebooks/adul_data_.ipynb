{
  "metadata": {
    "kernelspec": {
      "name": "python",
      "display_name": "Python (Pyodide)",
      "language": "python"
    },
    "language_info": {
      "codemirror_mode": {
        "name": "python",
        "version": 3
      },
      "file_extension": ".py",
      "mimetype": "text/x-python",
      "name": "python",
      "nbconvert_exporter": "python",
      "pygments_lexer": "ipython3",
      "version": "3.8"
    }
  },
  "nbformat_minor": 5,
  "nbformat": 4,
  "cells": [
    {
      "id": "260ffb9a-4da8-4df6-b914-b44d28787543",
      "cell_type": "code",
      "source": "import pandas as pd\nimport numpy as np",
      "metadata": {
        "trusted": true
      },
      "outputs": [],
      "execution_count": 15
    },
    {
      "id": "64475138-0f0b-40ed-87c3-7424cf60e68c",
      "cell_type": "code",
      "source": "df = pd.read_csv('adult.data.csv', sep=',')",
      "metadata": {
        "trusted": true
      },
      "outputs": [],
      "execution_count": 51
    },
    {
      "id": "a720a8a9-5686-466b-8520-d04eee2442ae",
      "cell_type": "code",
      "source": "df.head()",
      "metadata": {
        "trusted": true
      },
      "outputs": [
        {
          "execution_count": 53,
          "output_type": "execute_result",
          "data": {
            "text/plain": "   age         workclass  fnlwgt  education  education-num  \\\n0   39         State-gov   77516  Bachelors             13   \n1   50  Self-emp-not-inc   83311  Bachelors             13   \n2   38           Private  215646    HS-grad              9   \n3   53           Private  234721       11th              7   \n4   28           Private  338409  Bachelors             13   \n\n       marital-status         occupation   relationship   race     sex  \\\n0       Never-married       Adm-clerical  Not-in-family  White    Male   \n1  Married-civ-spouse    Exec-managerial        Husband  White    Male   \n2            Divorced  Handlers-cleaners  Not-in-family  White    Male   \n3  Married-civ-spouse  Handlers-cleaners        Husband  Black    Male   \n4  Married-civ-spouse     Prof-specialty           Wife  Black  Female   \n\n   capital-gain  capital-loss  hours-per-week native-country salary  \n0          2174             0              40  United-States  <=50K  \n1             0             0              13  United-States  <=50K  \n2             0             0              40  United-States  <=50K  \n3             0             0              40  United-States  <=50K  \n4             0             0              40           Cuba  <=50K  ",
            "text/html": "<div>\n<style scoped>\n    .dataframe tbody tr th:only-of-type {\n        vertical-align: middle;\n    }\n\n    .dataframe tbody tr th {\n        vertical-align: top;\n    }\n\n    .dataframe thead th {\n        text-align: right;\n    }\n</style>\n<table border=\"1\" class=\"dataframe\">\n  <thead>\n    <tr style=\"text-align: right;\">\n      <th></th>\n      <th>age</th>\n      <th>workclass</th>\n      <th>fnlwgt</th>\n      <th>education</th>\n      <th>education-num</th>\n      <th>marital-status</th>\n      <th>occupation</th>\n      <th>relationship</th>\n      <th>race</th>\n      <th>sex</th>\n      <th>capital-gain</th>\n      <th>capital-loss</th>\n      <th>hours-per-week</th>\n      <th>native-country</th>\n      <th>salary</th>\n    </tr>\n  </thead>\n  <tbody>\n    <tr>\n      <th>0</th>\n      <td>39</td>\n      <td>State-gov</td>\n      <td>77516</td>\n      <td>Bachelors</td>\n      <td>13</td>\n      <td>Never-married</td>\n      <td>Adm-clerical</td>\n      <td>Not-in-family</td>\n      <td>White</td>\n      <td>Male</td>\n      <td>2174</td>\n      <td>0</td>\n      <td>40</td>\n      <td>United-States</td>\n      <td>&lt;=50K</td>\n    </tr>\n    <tr>\n      <th>1</th>\n      <td>50</td>\n      <td>Self-emp-not-inc</td>\n      <td>83311</td>\n      <td>Bachelors</td>\n      <td>13</td>\n      <td>Married-civ-spouse</td>\n      <td>Exec-managerial</td>\n      <td>Husband</td>\n      <td>White</td>\n      <td>Male</td>\n      <td>0</td>\n      <td>0</td>\n      <td>13</td>\n      <td>United-States</td>\n      <td>&lt;=50K</td>\n    </tr>\n    <tr>\n      <th>2</th>\n      <td>38</td>\n      <td>Private</td>\n      <td>215646</td>\n      <td>HS-grad</td>\n      <td>9</td>\n      <td>Divorced</td>\n      <td>Handlers-cleaners</td>\n      <td>Not-in-family</td>\n      <td>White</td>\n      <td>Male</td>\n      <td>0</td>\n      <td>0</td>\n      <td>40</td>\n      <td>United-States</td>\n      <td>&lt;=50K</td>\n    </tr>\n    <tr>\n      <th>3</th>\n      <td>53</td>\n      <td>Private</td>\n      <td>234721</td>\n      <td>11th</td>\n      <td>7</td>\n      <td>Married-civ-spouse</td>\n      <td>Handlers-cleaners</td>\n      <td>Husband</td>\n      <td>Black</td>\n      <td>Male</td>\n      <td>0</td>\n      <td>0</td>\n      <td>40</td>\n      <td>United-States</td>\n      <td>&lt;=50K</td>\n    </tr>\n    <tr>\n      <th>4</th>\n      <td>28</td>\n      <td>Private</td>\n      <td>338409</td>\n      <td>Bachelors</td>\n      <td>13</td>\n      <td>Married-civ-spouse</td>\n      <td>Prof-specialty</td>\n      <td>Wife</td>\n      <td>Black</td>\n      <td>Female</td>\n      <td>0</td>\n      <td>0</td>\n      <td>40</td>\n      <td>Cuba</td>\n      <td>&lt;=50K</td>\n    </tr>\n  </tbody>\n</table>\n</div>"
          },
          "metadata": {}
        }
      ],
      "execution_count": 53
    },
    {
      "id": "0bb70589-3457-44bd-a2c1-207e18e0ddf4",
      "cell_type": "code",
      "source": "print(df.columns)",
      "metadata": {
        "trusted": true
      },
      "outputs": [
        {
          "name": "stdout",
          "output_type": "stream",
          "text": "Index(['age', 'workclass', 'fnlwgt', 'education', 'education-num',\n       'marital-status', 'occupation', 'relationship', 'race', 'sex',\n       'capital-gain', 'capital-loss', 'hours-per-week', 'native-country',\n       'salary'],\n      dtype='object')\n"
        }
      ],
      "execution_count": 54
    },
    {
      "id": "73c86a1c-9845-4c62-ac24-269930fc5101",
      "cell_type": "code",
      "source": "df['race'].value_counts(dropna=False)",
      "metadata": {
        "trusted": true
      },
      "outputs": [
        {
          "execution_count": 55,
          "output_type": "execute_result",
          "data": {
            "text/plain": "race\nWhite                 27816\nBlack                  3124\nAsian-Pac-Islander     1039\nAmer-Indian-Eskimo      311\nOther                   271\nName: count, dtype: int64"
          },
          "metadata": {}
        }
      ],
      "execution_count": 55
    },
    {
      "id": "78e50bf3-8f25-4eac-bc3a-248b90afc621",
      "cell_type": "code",
      "source": "df[df['sex'] == 'Male']['age'].mean()",
      "metadata": {
        "trusted": true
      },
      "outputs": [
        {
          "execution_count": 56,
          "output_type": "execute_result",
          "data": {
            "text/plain": "np.float64(39.43354749885268)"
          },
          "metadata": {}
        }
      ],
      "execution_count": 56
    },
    {
      "id": "cfe6d625-a71b-4507-b726-022467384f9d",
      "cell_type": "code",
      "source": "bachelors_count = df[df['education'] == 'Bachelors'].shape[0]\ntotal_people = df.shape[0]\npercentage_bachelors = (bachelors_count / total_people) * 100",
      "metadata": {
        "trusted": true
      },
      "outputs": [],
      "execution_count": 57
    },
    {
      "id": "e1cf8c23-a204-4692-9eae-32535c41ec2b",
      "cell_type": "code",
      "source": "percentage_bachelors",
      "metadata": {
        "trusted": true
      },
      "outputs": [
        {
          "execution_count": 58,
          "output_type": "execute_result",
          "data": {
            "text/plain": "16.44605509658794"
          },
          "metadata": {}
        }
      ],
      "execution_count": 58
    },
    {
      "id": "17816c9a-831a-4758-84f9-73cae498a311",
      "cell_type": "code",
      "source": "advanced_edu = ['Bachelors', 'Masters', 'Doctorate']",
      "metadata": {
        "trusted": true
      },
      "outputs": [],
      "execution_count": 59
    },
    {
      "id": "ad010831-fa4c-4c8f-8904-8278cfc26670",
      "cell_type": "code",
      "source": "advanced_edu_df = df[df['education'].isin(advanced_edu)]",
      "metadata": {
        "trusted": true
      },
      "outputs": [],
      "execution_count": 60
    },
    {
      "id": "8daba77c-a775-40e6-b2f3-e55c24f072d5",
      "cell_type": "code",
      "source": "percentage_adv = (advanced_edu_df['salary'] == '>50K').mean() * 100",
      "metadata": {
        "trusted": true
      },
      "outputs": [],
      "execution_count": 61
    },
    {
      "id": "96de582c-96cc-41d2-a74c-cfa30ad89305",
      "cell_type": "code",
      "source": "percentage_adv",
      "metadata": {
        "trusted": true
      },
      "outputs": [
        {
          "execution_count": 62,
          "output_type": "execute_result",
          "data": {
            "text/plain": "np.float64(46.535843011613935)"
          },
          "metadata": {}
        }
      ],
      "execution_count": 62
    },
    {
      "id": "78e3700e-c39f-45ed-86d5-0b63c33a1de4",
      "cell_type": "code",
      "source": "no_advanced_edu = ['Bachelors', 'Masters', 'Doctorate']",
      "metadata": {
        "trusted": true
      },
      "outputs": [],
      "execution_count": 77
    },
    {
      "id": "c93c3f1e-5bd6-4029-9afd-a7c62501f1df",
      "cell_type": "code",
      "source": "no_advanced_edu_df = df[~df['education'].isin(no_advanced_edu)]",
      "metadata": {
        "trusted": true
      },
      "outputs": [],
      "execution_count": 78
    },
    {
      "id": "9f396ec2-e1fe-44b2-b853-36193701b346",
      "cell_type": "code",
      "source": "no_percentage_adv = (no_advanced_edu_df['salary'] == '>50K').mean() * 100",
      "metadata": {
        "trusted": true
      },
      "outputs": [],
      "execution_count": 79
    },
    {
      "id": "1a5c6469-63a6-45ef-b89b-820fc85c4808",
      "cell_type": "code",
      "source": "no_percentage_adv",
      "metadata": {
        "trusted": true
      },
      "outputs": [
        {
          "execution_count": 80,
          "output_type": "execute_result",
          "data": {
            "text/plain": "np.float64(17.3713601914639)"
          },
          "metadata": {}
        }
      ],
      "execution_count": 80
    },
    {
      "id": "7315c218-f566-4c61-a1e8-0c0a00e2ccee",
      "cell_type": "code",
      "source": "min_hours = df['hours-per-week'].min()",
      "metadata": {
        "trusted": true
      },
      "outputs": [],
      "execution_count": 71
    },
    {
      "id": "d0ec7717-497e-4b8f-8f51-816f130395af",
      "cell_type": "code",
      "source": "min_hours",
      "metadata": {
        "trusted": true
      },
      "outputs": [
        {
          "execution_count": 72,
          "output_type": "execute_result",
          "data": {
            "text/plain": "np.int64(1)"
          },
          "metadata": {}
        }
      ],
      "execution_count": 72
    },
    {
      "id": "d96799d1-d996-4620-9d88-d26ca057bd33",
      "cell_type": "code",
      "source": "min_hours_workers = df[df['hours-per-week'] == min_hours]",
      "metadata": {
        "trusted": true
      },
      "outputs": [],
      "execution_count": 81
    },
    {
      "id": "feb92d0b-5d12-4ea1-884d-29733b5d25fb",
      "cell_type": "code",
      "source": "num_min_workes = (min_hours_workers['salary'] == '>50K').mean() * 100",
      "metadata": {
        "trusted": true
      },
      "outputs": [],
      "execution_count": 82
    },
    {
      "id": "eaa3a235-da09-4cad-8c5f-6c36eb82a6d5",
      "cell_type": "code",
      "source": "num_min_workes",
      "metadata": {
        "trusted": true
      },
      "outputs": [
        {
          "execution_count": 83,
          "output_type": "execute_result",
          "data": {
            "text/plain": "np.float64(10.0)"
          },
          "metadata": {}
        }
      ],
      "execution_count": 83
    },
    {
      "id": "969f6e71-ccaf-45d2-b913-8ba5e1ed0bd5",
      "cell_type": "code",
      "source": "high = df[df['salary'] == '>50K']",
      "metadata": {
        "trusted": true
      },
      "outputs": [],
      "execution_count": 86
    },
    {
      "id": "2187473f-bb70-4c0a-93b6-7c226c6932bc",
      "cell_type": "code",
      "source": "high_counts = high['native-country'].value_counts()",
      "metadata": {
        "trusted": true
      },
      "outputs": [],
      "execution_count": 88
    },
    {
      "id": "29fe0c29-4a96-4b5a-acd2-0ed6416c34f6",
      "cell_type": "code",
      "source": "total_people = df['native-country'].value_counts()",
      "metadata": {
        "trusted": true
      },
      "outputs": [],
      "execution_count": 89
    },
    {
      "id": "dbe3d660-5358-42ca-84b6-342beb8f3370",
      "cell_type": "code",
      "source": "percentage_people = round((high_counts / total_people) * 100, 1)",
      "metadata": {
        "trusted": true
      },
      "outputs": [],
      "execution_count": 92
    },
    {
      "id": "b3e194ac-41c0-4113-ac2b-dc0cbe99927d",
      "cell_type": "code",
      "source": "top_country = percentage_people.idxmax()",
      "metadata": {
        "trusted": true
      },
      "outputs": [],
      "execution_count": 94
    },
    {
      "id": "e9726415-4e32-4e56-88bd-6c7bd525c577",
      "cell_type": "code",
      "source": "top_country",
      "metadata": {
        "trusted": true
      },
      "outputs": [
        {
          "execution_count": 95,
          "output_type": "execute_result",
          "data": {
            "text/plain": "'Iran'"
          },
          "metadata": {}
        }
      ],
      "execution_count": 95
    },
    {
      "id": "85c90a2d-1664-4109-a042-a6dbc88e5b5c",
      "cell_type": "code",
      "source": "top_percentage = percentage.max()",
      "metadata": {
        "trusted": true
      },
      "outputs": [],
      "execution_count": 96
    },
    {
      "id": "b8efc845-424c-487f-96dc-be6f0c17443b",
      "cell_type": "code",
      "source": "top_percentage",
      "metadata": {
        "trusted": true
      },
      "outputs": [
        {
          "execution_count": 97,
          "output_type": "execute_result",
          "data": {
            "text/plain": "np.float64(46.535843011613935)"
          },
          "metadata": {}
        }
      ],
      "execution_count": 97
    },
    {
      "id": "28f7c74c-b0f2-479c-be1b-fe6b7e220edc",
      "cell_type": "code",
      "source": "filter_india = (df['native-country'] == 'India') & (df['salary'] == '>50K')",
      "metadata": {
        "trusted": true
      },
      "outputs": [],
      "execution_count": 99
    },
    {
      "id": "e187c585-3c0a-45ad-8487-87268c374803",
      "cell_type": "code",
      "source": "filter_indian_people = df[filter_india]",
      "metadata": {
        "trusted": true
      },
      "outputs": [],
      "execution_count": 100
    },
    {
      "id": "661222cb-3474-4a1a-be05-19d72863eb92",
      "cell_type": "code",
      "source": "count_occupation = filter_indian_people['occupation'].value_counts()",
      "metadata": {
        "trusted": true
      },
      "outputs": [],
      "execution_count": 101
    },
    {
      "id": "6586044e-1d06-4da9-9aa4-0ade2f72ab6a",
      "cell_type": "code",
      "source": "top_IN_occupation = count_occupation.index[0] ",
      "metadata": {
        "trusted": true
      },
      "outputs": [],
      "execution_count": 102
    },
    {
      "id": "ab493d6f-35e5-4a20-b289-08d806cbfc56",
      "cell_type": "code",
      "source": "top_IN_occupation",
      "metadata": {
        "trusted": true
      },
      "outputs": [
        {
          "execution_count": 103,
          "output_type": "execute_result",
          "data": {
            "text/plain": "'Prof-specialty'"
          },
          "metadata": {}
        }
      ],
      "execution_count": 103
    },
    {
      "id": "d24beb69-17eb-42e6-8a3e-f043bf1a7a3b",
      "cell_type": "code",
      "source": "",
      "metadata": {
        "trusted": true
      },
      "outputs": [],
      "execution_count": null
    }
  ]
}